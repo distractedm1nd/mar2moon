{
 "cells": [
  {
   "cell_type": "code",
   "execution_count": null,
   "id": "390f5fb7",
   "metadata": {
    "collapsed": false,
    "jupyter": {
     "outputs_hidden": false
    },
    "pycharm": {
     "name": "#%%\n"
    }
   },
   "outputs": [],
   "source": [
    "!pip install datasets==1.4.1\n",
    "!pip install transformers==4.4.0\n",
    "!pip install soundfile\n",
    "!pip install jiwer"
   ]
  },
  {
   "cell_type": "code",
   "execution_count": 5,
   "id": "a59b1a6e",
   "metadata": {
    "collapsed": false,
    "jupyter": {
     "outputs_hidden": false
    },
    "pycharm": {
     "name": "#%%\n"
    }
   },
   "outputs": [],
   "source": [
    "from CryptoSentimentAnalysis import SentimentAnalysisPipeline"
   ]
  },
  {
   "cell_type": "code",
   "execution_count": 6,
   "id": "97ae2b75-63fc-419b-be39-a3ec27c517e3",
   "metadata": {},
   "outputs": [],
   "source": [
    "audio_folder = \"D:\\\\nlp_project_d\\\\main_method_testing\\\\audio_files\"\n",
    "clips_folder = \"D:\\\\nlp_project_d\\\\main_method_testing\\\\extracted_clips\"\n",
    "praat_path = \"C:\\\\Program Files\\\\Praat\\\\Praat.exe\"\n",
    "sentiment_model_path = \"C:\\\\Users\\\\Tristan\\\\nlp_project\\\\mar2moon\\\\models\\\\sentiment_model_audio_features.pkl\"\n",
    "sentiment_model_no_audio_path = \"C:\\\\Users\\\\Tristan\\\\nlp_project\\\\mar2moon\\\\models\\\\sentiment_model_no_audio_features.pkl\"\n",
    "sentiment_vectorizer = \"C:\\\\Users\\\\Tristan\\\\nlp_project\\\\mar2moon\\\\models\\\\tfidf_vectorizer.pkl\"\n",
    "sentiment_vectorizer_no_audio = \"C:\\\\Users\\\\Tristan\\\\nlp_project\\\\mar2moon\\\\models\\\\tfidf_vectorizer_no_audio_features.pkl\""
   ]
  },
  {
   "cell_type": "code",
   "execution_count": 7,
   "id": "893ec0f4-b1d8-49b8-a2b4-1e6e32ce95ce",
   "metadata": {},
   "outputs": [],
   "source": [
    "audio_folder_dl_test = \"D:\\\\nlp_project_d\\\\main_method_testing\\\\audio_files_dl_test\"\n",
    "video_urls = [\"https://www.youtube.com/watch?v=6qoiMnVlitQ\"]\n",
    "playlist_urls = [\"https://www.youtube.com/watch?v=yNkCVKzjv7A&list=UUbLhGKVY-bJPcawebgtNfbw\"]"
   ]
  },
  {
   "cell_type": "code",
   "execution_count": 8,
   "id": "292e5821-14cd-4ff1-b359-bbd62a050a25",
   "metadata": {},
   "outputs": [
    {
     "name": "stdout",
     "output_type": "stream",
     "text": [
      "Downloading standard Wav2Vec model and processor\n"
     ]
    }
   ],
   "source": [
    "pipeline_dl_test = SentimentAnalysisPipeline(audio_files_folder=audio_folder_dl_test,\n",
    "                                             clips_folder=clips_folder,\n",
    "                                             praat_path=praat_path,\n",
    "                                             sentiment_model=sentiment_model_path,\n",
    "                                             sentiment_vectorizer=sentiment_vectorizer)"
   ]
  },
  {
   "cell_type": "code",
   "execution_count": null,
   "id": "fa887594-f129-4b05-bb54-42467cb6cadf",
   "metadata": {},
   "outputs": [],
   "source": [
    "df_1 = pipeline_dl_test.get_sentiments(video_urls=video_urls, start_date=\"20210630\", end_date=\"20210630\")"
   ]
  },
  {
   "cell_type": "code",
   "execution_count": 6,
   "id": "e6f21c9c-4cda-4b72-80a7-6f63345356e9",
   "metadata": {},
   "outputs": [],
   "source": [
    "df_1"
   ]
  },
  {
   "cell_type": "code",
   "execution_count": null,
   "id": "2922b9ba-7ebe-4e3c-8d55-9f67ccc03fd2",
   "metadata": {},
   "outputs": [],
   "source": [
    "df_1.to_csv(\"get_sentiments_test_run_1_video.csv\", index=False)"
   ]
  },
  {
   "cell_type": "code",
   "execution_count": null,
   "id": "832066bc-c578-4165-9d61-16b3a66d0df4",
   "metadata": {},
   "outputs": [],
   "source": [
    "# Testing"
   ]
  },
  {
   "cell_type": "code",
   "execution_count": 8,
   "id": "0b84785b-427c-41e6-91fa-813f24d75eb8",
   "metadata": {
    "pycharm": {
     "name": "#%%\n"
    }
   },
   "outputs": [
    {
     "name": "stdout",
     "output_type": "stream",
     "text": [
      "Downloading standard Wav2Vec model and processor\n",
      "Clips extracted\n",
      "Text extracted\n",
      "Text labelled with coins\n",
      "Audio features extracted\n",
      "Sentiments labelling complete\n"
     ]
    }
   ],
   "source": [
    "\n",
    "audio_folder_1 = \"D:\\\\nlp_project_d\\\\main_method_testing\\\\audio_files_1\"\n",
    "pipeline = SentimentAnalysisPipeline(audio_files_folder=audio_folder_1,\n",
    "                                     clips_folder=clips_folder,\n",
    "                                     praat_path=praat_path,\n",
    "                                     sentiment_model=sentiment_model_path,\n",
    "                                    sentiment_vectorizer=sentiment_vectorizer)\n",
    "\n",
    "df = pipeline.get_sentiments(start_date=\"20210201\", end_date=\"20210401\")"
   ]
  },
  {
   "cell_type": "code",
   "execution_count": 4,
   "id": "e37fed4c-d78b-4874-b305-d865195a6af3",
   "metadata": {},
   "outputs": [
    {
     "data": {
      "text/html": [
       "<div>\n",
       "<style scoped>\n",
       "    .dataframe tbody tr th:only-of-type {\n",
       "        vertical-align: middle;\n",
       "    }\n",
       "\n",
       "    .dataframe tbody tr th {\n",
       "        vertical-align: top;\n",
       "    }\n",
       "\n",
       "    .dataframe thead th {\n",
       "        text-align: right;\n",
       "    }\n",
       "</style>\n",
       "<table border=\"1\" class=\"dataframe\">\n",
       "  <thead>\n",
       "    <tr style=\"text-align: right;\">\n",
       "      <th></th>\n",
       "      <th>Date</th>\n",
       "      <th>Author</th>\n",
       "      <th>Title</th>\n",
       "      <th>Coin</th>\n",
       "      <th>Sentiment</th>\n",
       "    </tr>\n",
       "  </thead>\n",
       "  <tbody>\n",
       "    <tr>\n",
       "      <th>0</th>\n",
       "      <td>20210401</td>\n",
       "      <td>Altcoin_Daily</td>\n",
       "      <td>ETH_to_CRUSH_Bitcoin_(Top_Expert_Prediction)_B...</td>\n",
       "      <td>ETH</td>\n",
       "      <td>bearish</td>\n",
       "    </tr>\n",
       "    <tr>\n",
       "      <th>1</th>\n",
       "      <td>20210401</td>\n",
       "      <td>Altcoin_Daily</td>\n",
       "      <td>ETH_to_CRUSH_Bitcoin_(Top_Expert_Prediction)_B...</td>\n",
       "      <td>ETH</td>\n",
       "      <td>bearish</td>\n",
       "    </tr>\n",
       "    <tr>\n",
       "      <th>2</th>\n",
       "      <td>20210401</td>\n",
       "      <td>Altcoin_Daily</td>\n",
       "      <td>ETH_to_CRUSH_Bitcoin_(Top_Expert_Prediction)_B...</td>\n",
       "      <td>ETH</td>\n",
       "      <td>bearish</td>\n",
       "    </tr>\n",
       "  </tbody>\n",
       "</table>\n",
       "</div>"
      ],
      "text/plain": [
       "       Date         Author                                              Title  \\\n",
       "0  20210401  Altcoin_Daily  ETH_to_CRUSH_Bitcoin_(Top_Expert_Prediction)_B...   \n",
       "1  20210401  Altcoin_Daily  ETH_to_CRUSH_Bitcoin_(Top_Expert_Prediction)_B...   \n",
       "2  20210401  Altcoin_Daily  ETH_to_CRUSH_Bitcoin_(Top_Expert_Prediction)_B...   \n",
       "\n",
       "  Coin Sentiment  \n",
       "0  ETH   bearish  \n",
       "1  ETH   bearish  \n",
       "2  ETH   bearish  "
      ]
     },
     "execution_count": 4,
     "metadata": {},
     "output_type": "execute_result"
    }
   ],
   "source": [
    "df"
   ]
  },
  {
   "cell_type": "code",
   "execution_count": null,
   "id": "f63a32f2-2595-46e7-bcca-b20c209ad014",
   "metadata": {},
   "outputs": [],
   "source": [
    "# Testing"
   ]
  },
  {
   "cell_type": "code",
   "execution_count": 15,
   "id": "77c484d6-6387-4c08-bd7d-0e0ab4cd9fe9",
   "metadata": {},
   "outputs": [],
   "source": [
    "import pandas as pd\n",
    "df = pd.read_csv(\"C:\\\\Users\\\\Tristan\\\\nlp_project\\\\final3.csv\")\n",
    "df.head()\n",
    "\n",
    "df.dropna(subset=[\"Text\"], inplace=True)\n",
    "coin_list = [\"BTC\", \"ETH\", \"DOGE\"]\n",
    "df = df[df[\"Coin\"].isin(coin_list)]"
   ]
  },
  {
   "cell_type": "code",
   "execution_count": 16,
   "id": "81e12237-e15c-4381-8c0d-239a826b5006",
   "metadata": {},
   "outputs": [
    {
     "name": "stdout",
     "output_type": "stream",
     "text": [
      "Downloading standard Wav2Vec model and processor\n"
     ]
    }
   ],
   "source": [
    "pipeline = SentimentAnalysisPipeline(audio_files_folder=audio_folder,\n",
    "                                     clips_folder=clips_folder,\n",
    "                                     praat_path=praat_path,\n",
    "                                     sentiment_model=sentiment_model_no_audio_path,\n",
    "                                    sentiment_vectorizer=sentiment_vectorizer_no_audio,\n",
    "                                    use_audio_features=False)\n",
    "\n"
   ]
  },
  {
   "cell_type": "code",
   "execution_count": 17,
   "id": "fc3bb6f8-9c0f-4c4e-8477-669f25452f12",
   "metadata": {},
   "outputs": [
    {
     "name": "stdout",
     "output_type": "stream",
     "text": [
      "6        True\n",
      "8        True\n",
      "9        True\n",
      "10       True\n",
      "11       True\n",
      "         ... \n",
      "51645    True\n",
      "51646    True\n",
      "51653    True\n",
      "51671    True\n",
      "51677    True\n",
      "Name: Coin, Length: 16293, dtype: bool\n",
      "        Date         Author  \\\n",
      "6   20210101  Altcoin_Daily   \n",
      "8   20210101  Altcoin_Daily   \n",
      "9   20210101  Altcoin_Daily   \n",
      "10  20210101  Altcoin_Daily   \n",
      "11  20210101  Altcoin_Daily   \n",
      "\n",
      "                                                Title  Clip_Id  \\\n",
      "6   My 2021 Bitcoin Price Prediction! I’m HIGHLY C...        6   \n",
      "8   My 2021 Bitcoin Price Prediction! I’m HIGHLY C...        8   \n",
      "9   My 2021 Bitcoin Price Prediction! I’m HIGHLY C...        9   \n",
      "10  My 2021 Bitcoin Price Prediction! I’m HIGHLY C...       10   \n",
      "11  My 2021 Bitcoin Price Prediction! I’m HIGHLY C...       11   \n",
      "\n",
      "                                            File_Name  \\\n",
      "6   Altcoin Daily<sep>20210101<sep>My 2021 Bitcoin...   \n",
      "8   Altcoin Daily<sep>20210101<sep>My 2021 Bitcoin...   \n",
      "9   Altcoin Daily<sep>20210101<sep>My 2021 Bitcoin...   \n",
      "10  Altcoin Daily<sep>20210101<sep>My 2021 Bitcoin...   \n",
      "11  Altcoin Daily<sep>20210101<sep>My 2021 Bitcoin...   \n",
      "\n",
      "                                                 Text Coin  Pitch_Min  \\\n",
      "6   to my price prediction before i share with you...  BTC        NaN   \n",
      "8   the new class of buyer is causing bitcoin to g...  BTC        NaN   \n",
      "9   large investors continue to accumulate bitcoin...  BTC        NaN   \n",
      "10  allet address is held by a single network part...  BTC        NaN   \n",
      "11  of this it has literally never been more expen...  BTC        NaN   \n",
      "\n",
      "    Pitch_Max  Pitch_05_Quantile  Pitch_95_Quantile  Pitch_Range  pitch stdev  \\\n",
      "6         NaN                NaN                NaN          NaN          NaN   \n",
      "8         NaN                NaN                NaN          NaN          NaN   \n",
      "9         NaN                NaN                NaN          NaN          NaN   \n",
      "10        NaN                NaN                NaN          NaN          NaN   \n",
      "11        NaN                NaN                NaN          NaN          NaN   \n",
      "\n",
      "    Pitch_Mean  Pitch_Median  Jitter  Shimmer  Hammarberg_Index  \n",
      "6          NaN           NaN     NaN      NaN               NaN  \n",
      "8          NaN           NaN     NaN      NaN               NaN  \n",
      "9          NaN           NaN     NaN      NaN               NaN  \n",
      "10         NaN           NaN     NaN      NaN               NaN  \n",
      "11         NaN           NaN     NaN      NaN               NaN  \n"
     ]
    }
   ],
   "source": [
    "df[\"Sentiment\"] = pipeline.predict_sentiments(df=df)"
   ]
  },
  {
   "cell_type": "code",
   "execution_count": 20,
   "id": "4a921120-5059-49d7-aae1-4cdd8c8bac7a",
   "metadata": {},
   "outputs": [],
   "source": [
    "df.to_csv(\"final3_sentiments.csv\", index=False)"
   ]
  },
  {
   "cell_type": "code",
   "execution_count": null,
   "id": "2e02c959-5cc4-4e83-98fa-6c7578e75b51",
   "metadata": {},
   "outputs": [],
   "source": []
  },
  {
   "cell_type": "code",
   "execution_count": 3,
   "id": "8753b0a6-7a7e-49a1-8c34-ef15af40b03e",
   "metadata": {},
   "outputs": [],
   "source": []
  },
  {
   "cell_type": "code",
   "execution_count": 4,
   "id": "e82f3d57-b736-4f1a-97a7-f94f3a7e4b6a",
   "metadata": {},
   "outputs": [
    {
     "name": "stdout",
     "output_type": "stream",
     "text": [
      "Downloading standard Wav2Vec model and processor\n"
     ]
    }
   ],
   "source": []
  },
  {
   "cell_type": "code",
   "execution_count": 5,
   "id": "e659c7fc-89c5-44ac-ba6c-9e0f05194dc0",
   "metadata": {},
   "outputs": [
    {
     "name": "stdout",
     "output_type": "stream",
     "text": [
      "Download finished\n",
      "Clips extracted\n",
      "Text extracted\n",
      "Text labelled with coins\n",
      "Audio features extracted\n"
     ]
    }
   ],
   "source": []
  },
  {
   "cell_type": "code",
   "execution_count": 6,
   "id": "427d91e1-489c-44bd-99ed-7263434c1699",
   "metadata": {},
   "outputs": [
    {
     "data": {
      "text/html": [
       "<div>\n",
       "<style scoped>\n",
       "    .dataframe tbody tr th:only-of-type {\n",
       "        vertical-align: middle;\n",
       "    }\n",
       "\n",
       "    .dataframe tbody tr th {\n",
       "        vertical-align: top;\n",
       "    }\n",
       "\n",
       "    .dataframe thead th {\n",
       "        text-align: right;\n",
       "    }\n",
       "</style>\n",
       "<table border=\"1\" class=\"dataframe\">\n",
       "  <thead>\n",
       "    <tr style=\"text-align: right;\">\n",
       "      <th></th>\n",
       "      <th>Date</th>\n",
       "      <th>Author</th>\n",
       "      <th>Title</th>\n",
       "      <th>Coin</th>\n",
       "      <th>Sentiment</th>\n",
       "    </tr>\n",
       "  </thead>\n",
       "  <tbody>\n",
       "    <tr>\n",
       "      <th>0</th>\n",
       "      <td>20210630</td>\n",
       "      <td>Altcoin_Daily</td>\n",
       "      <td>AMAZING_OPPORTUNITY_IN_CRYPTO_(LIFE_CHANGING)!...</td>\n",
       "      <td>None</td>\n",
       "      <td>neutral</td>\n",
       "    </tr>\n",
       "    <tr>\n",
       "      <th>1</th>\n",
       "      <td>20210630</td>\n",
       "      <td>Altcoin_Daily</td>\n",
       "      <td>AMAZING_OPPORTUNITY_IN_CRYPTO_(LIFE_CHANGING)!...</td>\n",
       "      <td>None</td>\n",
       "      <td>neutral</td>\n",
       "    </tr>\n",
       "    <tr>\n",
       "      <th>2</th>\n",
       "      <td>20210630</td>\n",
       "      <td>Altcoin_Daily</td>\n",
       "      <td>AMAZING_OPPORTUNITY_IN_CRYPTO_(LIFE_CHANGING)!...</td>\n",
       "      <td>None</td>\n",
       "      <td>neutral</td>\n",
       "    </tr>\n",
       "    <tr>\n",
       "      <th>3</th>\n",
       "      <td>20210630</td>\n",
       "      <td>Altcoin_Daily</td>\n",
       "      <td>AMAZING_OPPORTUNITY_IN_CRYPTO_(LIFE_CHANGING)!...</td>\n",
       "      <td>None</td>\n",
       "      <td>neutral</td>\n",
       "    </tr>\n",
       "    <tr>\n",
       "      <th>4</th>\n",
       "      <td>20210630</td>\n",
       "      <td>Altcoin_Daily</td>\n",
       "      <td>AMAZING_OPPORTUNITY_IN_CRYPTO_(LIFE_CHANGING)!...</td>\n",
       "      <td>BTC</td>\n",
       "      <td>neutral</td>\n",
       "    </tr>\n",
       "    <tr>\n",
       "      <th>...</th>\n",
       "      <td>...</td>\n",
       "      <td>...</td>\n",
       "      <td>...</td>\n",
       "      <td>...</td>\n",
       "      <td>...</td>\n",
       "    </tr>\n",
       "    <tr>\n",
       "      <th>93</th>\n",
       "      <td>20210630</td>\n",
       "      <td>Altcoin_Daily</td>\n",
       "      <td>AMAZING_OPPORTUNITY_IN_CRYPTO_(LIFE_CHANGING)!...</td>\n",
       "      <td>BTC</td>\n",
       "      <td>neutral</td>\n",
       "    </tr>\n",
       "    <tr>\n",
       "      <th>94</th>\n",
       "      <td>20210630</td>\n",
       "      <td>Altcoin_Daily</td>\n",
       "      <td>AMAZING_OPPORTUNITY_IN_CRYPTO_(LIFE_CHANGING)!...</td>\n",
       "      <td>None</td>\n",
       "      <td>neutral</td>\n",
       "    </tr>\n",
       "    <tr>\n",
       "      <th>95</th>\n",
       "      <td>20210630</td>\n",
       "      <td>Altcoin_Daily</td>\n",
       "      <td>AMAZING_OPPORTUNITY_IN_CRYPTO_(LIFE_CHANGING)!...</td>\n",
       "      <td>None</td>\n",
       "      <td>neutral</td>\n",
       "    </tr>\n",
       "    <tr>\n",
       "      <th>96</th>\n",
       "      <td>20210630</td>\n",
       "      <td>Altcoin_Daily</td>\n",
       "      <td>AMAZING_OPPORTUNITY_IN_CRYPTO_(LIFE_CHANGING)!...</td>\n",
       "      <td>None</td>\n",
       "      <td>neutral</td>\n",
       "    </tr>\n",
       "    <tr>\n",
       "      <th>97</th>\n",
       "      <td>20210630</td>\n",
       "      <td>Altcoin_Daily</td>\n",
       "      <td>AMAZING_OPPORTUNITY_IN_CRYPTO_(LIFE_CHANGING)!...</td>\n",
       "      <td>None</td>\n",
       "      <td>neutral</td>\n",
       "    </tr>\n",
       "  </tbody>\n",
       "</table>\n",
       "<p>98 rows × 5 columns</p>\n",
       "</div>"
      ],
      "text/plain": [
       "        Date         Author  \\\n",
       "0   20210630  Altcoin_Daily   \n",
       "1   20210630  Altcoin_Daily   \n",
       "2   20210630  Altcoin_Daily   \n",
       "3   20210630  Altcoin_Daily   \n",
       "4   20210630  Altcoin_Daily   \n",
       "..       ...            ...   \n",
       "93  20210630  Altcoin_Daily   \n",
       "94  20210630  Altcoin_Daily   \n",
       "95  20210630  Altcoin_Daily   \n",
       "96  20210630  Altcoin_Daily   \n",
       "97  20210630  Altcoin_Daily   \n",
       "\n",
       "                                                Title  Coin Sentiment  \n",
       "0   AMAZING_OPPORTUNITY_IN_CRYPTO_(LIFE_CHANGING)!...  None   neutral  \n",
       "1   AMAZING_OPPORTUNITY_IN_CRYPTO_(LIFE_CHANGING)!...  None   neutral  \n",
       "2   AMAZING_OPPORTUNITY_IN_CRYPTO_(LIFE_CHANGING)!...  None   neutral  \n",
       "3   AMAZING_OPPORTUNITY_IN_CRYPTO_(LIFE_CHANGING)!...  None   neutral  \n",
       "4   AMAZING_OPPORTUNITY_IN_CRYPTO_(LIFE_CHANGING)!...   BTC   neutral  \n",
       "..                                                ...   ...       ...  \n",
       "93  AMAZING_OPPORTUNITY_IN_CRYPTO_(LIFE_CHANGING)!...   BTC   neutral  \n",
       "94  AMAZING_OPPORTUNITY_IN_CRYPTO_(LIFE_CHANGING)!...  None   neutral  \n",
       "95  AMAZING_OPPORTUNITY_IN_CRYPTO_(LIFE_CHANGING)!...  None   neutral  \n",
       "96  AMAZING_OPPORTUNITY_IN_CRYPTO_(LIFE_CHANGING)!...  None   neutral  \n",
       "97  AMAZING_OPPORTUNITY_IN_CRYPTO_(LIFE_CHANGING)!...  None   neutral  \n",
       "\n",
       "[98 rows x 5 columns]"
      ]
     },
     "execution_count": 6,
     "metadata": {},
     "output_type": "execute_result"
    }
   ],
   "source": [
    "df_1"
   ]
  },
  {
   "cell_type": "code",
   "execution_count": 7,
   "id": "12735387-fe3a-41fc-8f95-4673eeeb8730",
   "metadata": {},
   "outputs": [],
   "source": []
  },
  {
   "cell_type": "code",
   "execution_count": null,
   "id": "3d9bc3f8-d36d-491e-8e1d-e06c597386b1",
   "metadata": {},
   "outputs": [],
   "source": []
  }
 ],
 "metadata": {
  "kernelspec": {
   "display_name": "Python 3",
   "language": "python",
   "name": "python3"
  },
  "language_info": {
   "codemirror_mode": {
    "name": "ipython",
    "version": 3
   },
   "file_extension": ".py",
   "mimetype": "text/x-python",
   "name": "python",
   "nbconvert_exporter": "python",
   "pygments_lexer": "ipython3",
   "version": "3.9.5"
  }
 },
 "nbformat": 4,
 "nbformat_minor": 5
}
